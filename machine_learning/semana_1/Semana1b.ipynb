{
  "cells": [
    {
      "cell_type": "markdown",
      "metadata": {
        "id": "RqrmvWqS_hYG"
      },
      "source": [
        "# **2. Modelo de Clasificación Básico**\n",
        "Objetivo: Entrenar un modelo de clasificación con un dataset simple."
      ]
    },
    {
      "cell_type": "code",
      "execution_count": null,
      "metadata": {
        "colab": {
          "base_uri": "https://localhost:8080/"
        },
        "id": "G_y3kyQy_hyU",
        "outputId": "f7d48138-96a2-4ea1-95cd-8b7c9235f9aa"
      },
      "outputs": [
        {
          "name": "stdout",
          "output_type": "stream",
          "text": [
            "Dataset Ficticio con Nombres Adecuados:\n",
            "       Edad  Ingresos  Gasto_Mensual  Horas_Trabajo_Semanal  Puntaje_Credito  \\\n",
            "0 -0.430668  0.672873      -0.724280              -0.539630        -0.651600   \n",
            "1  0.211646 -0.843897       0.534794               0.825848         0.681953   \n",
            "2  1.092675  0.409106       1.100096              -0.942751        -0.981509   \n",
            "3  1.519901 -0.773361       1.998053               0.155132        -0.385314   \n",
            "4 -0.453901 -2.183473       0.244724               2.591239        -0.484234   \n",
            "\n",
            "   Etiqueta  \n",
            "0         0  \n",
            "1         1  \n",
            "2         0  \n",
            "3         0  \n",
            "4         1  \n",
            "Exactitud del modelo: 0.9\n"
          ]
        }
      ],
      "source": [
        "# Importar bibliotecas esenciales\n",
        "import pandas as pd\n",
        "import numpy as np\n",
        "\n",
        "# Importar bibliotecas necesarias\n",
        "from sklearn.model_selection import train_test_split\n",
        "from sklearn.ensemble import RandomForestClassifier\n",
        "from sklearn.datasets import make_classification\n",
        "from sklearn.metrics import accuracy_score\n",
        "\n",
        "# Crear un dataset ficticio\n",
        "X, y = make_classification(n_samples=100, n_features=5, random_state=42)\n",
        "\n",
        "columnas = ['Edad', 'Ingresos', 'Gasto_Mensual', 'Horas_Trabajo_Semanal', 'Puntaje_Credito']\n",
        "df = pd.DataFrame(X, columns=columnas)\n",
        "df['Etiqueta'] = y\n",
        "\n",
        "# Mostrar las primeras filas del DataFrame\n",
        "print(\"Dataset Ficticio con Nombres Adecuados:\")\n",
        "print(df.head())\n",
        "\n",
        "# Dividir en conjuntos de entrenamiento y prueba\n",
        "X_train, X_test, y_train, y_test = train_test_split(X, y, test_size=0.2, random_state=42)\n",
        "\n",
        "# Entrenar un modelo de clasificación\n",
        "model = RandomForestClassifier()\n",
        "model.fit(X_train, y_train)\n",
        "\n",
        "# Predecir y evaluar\n",
        "y_pred = model.predict(X_test)\n",
        "accuracy = accuracy_score(y_test, y_pred)\n",
        "print(\"Exactitud del modelo:\", accuracy)\n"
      ]
    },
    {
      "cell_type": "markdown",
      "metadata": {
        "id": "8qJskmi3IWcl"
      },
      "source": [
        "Este código crea un dataset sintético para simular un problema de clasificación con datos relacionados con personas, como la edad, los ingresos y el puntaje de crédito. El dataset es útil para practicar y experimentar con algoritmos de clasificación sin necesidad de datos reales."
      ]
    },
    {
      "cell_type": "markdown",
      "metadata": {
        "id": "LqXUJcKjP3H3"
      },
      "source": [
        " Usaremos datos generados con ciertas relaciones específicas para que tengan sentido con los nombres asignados:\n",
        "\n",
        "# **Código para Crear un Dataset Realista**"
      ]
    },
    {
      "cell_type": "code",
      "execution_count": null,
      "metadata": {
        "colab": {
          "base_uri": "https://localhost:8080/"
        },
        "id": "uXh7rJUdPOM4",
        "outputId": "9e52dddd-a6d8-4740-9acd-f3d373362e48"
      },
      "outputs": [
        {
          "name": "stdout",
          "output_type": "stream",
          "text": [
            "Dataset Sintético con Relación Lógica:\n",
            "   Edad  Ingresos  Gasto_Mensual  Horas_Trabajo_Semanal  Puntaje_Credito\n",
            "0    56     22695           4773                     51              300\n",
            "1    46     68190          19754                     41              300\n",
            "2    32     25258           7326                     42              300\n",
            "3    60     59504          15514                     21              300\n",
            "4    25     53159           6755                     46              300\n",
            "Exactitud del modelo: 0.95\n"
          ]
        }
      ],
      "source": [
        "import pandas as pd\n",
        "import numpy as np\n",
        "\n",
        "# Fijar una semilla para la reproducibilidad\n",
        "np.random.seed(42)\n",
        "\n",
        "# Crear datos sintéticos relacionados\n",
        "n_samples = 100\n",
        "edad = np.random.randint(18, 65, size=n_samples)  # Edad entre 18 y 65 años\n",
        "ingresos = np.random.randint(20000, 100000, size=n_samples)  # Ingresos anuales en una escala razonable\n",
        "gasto_mensual = ingresos * np.random.uniform(0.1, 0.4, size=n_samples)  # Gasto mensual relacionado con los ingresos\n",
        "horas_trabajo_semanal = np.random.randint(20, 60, size=n_samples)  # Horas de trabajo por semana\n",
        "puntaje_credito = np.clip(edad + (ingresos // 1000) * 0.5 - horas_trabajo_semanal * 0.3 + np.random.normal(0, 10, size=n_samples), 300, 850)  # Fórmula sintética para puntaje de crédito\n",
        "\n",
        "# Crear el DataFrame\n",
        "df = pd.DataFrame({\n",
        "    'Edad': edad,\n",
        "    'Ingresos': ingresos,\n",
        "    'Gasto_Mensual': gasto_mensual.astype(int),\n",
        "    'Horas_Trabajo_Semanal': horas_trabajo_semanal,\n",
        "    'Puntaje_Credito': puntaje_credito.astype(int)\n",
        "})\n",
        "\n",
        "# Mostrar las primeras filas del DataFrame\n",
        "print(\"Dataset Sintético con Relación Lógica:\")\n",
        "print(df.head())\n",
        "\n",
        "# Dividir en conjuntos de entrenamiento y prueba\n",
        "X_train, X_test, y_train, y_test = train_test_split(X, y, test_size=0.2, random_state=42)\n",
        "\n",
        "# Entrenar un modelo de clasificación\n",
        "model = RandomForestClassifier()\n",
        "model.fit(X_train, y_train)\n",
        "\n",
        "# Predecir y evaluar\n",
        "y_pred = model.predict(X_test)\n",
        "accuracy = accuracy_score(y_test, y_pred)\n",
        "print(\"Exactitud del modelo:\", accuracy)\n"
      ]
    },
    {
      "cell_type": "markdown",
      "metadata": {
        "id": "ELK-C1TkQKF2"
      },
      "source": [
        "\n",
        "Explicación\n",
        "Edad: Generada aleatoriamente entre 18 y 65 años para representar un rango realista de edades.\n",
        "Ingresos: Generados aleatoriamente entre 20,000 y 100,000, representando ingresos anuales.\n",
        "Gasto_Mensual: Calculado como una fracción de los ingresos anuales (entre el 10% y el 40%) para simular un gasto razonable.\n",
        "Horas_Trabajo_Semanal: Generadas entre 20 y 60 horas, representando un rango típico de horas de trabajo semanal.\n",
        "Puntaje_Credito: Calculado usando una fórmula sintética que toma en cuenta la edad, los ingresos, y las horas de trabajo semanales, con un poco de variación aleatoria. Se limita entre 300 y 850, un rango típico de puntajes de crédito.\n",
        "Este dataset tiene una lógica más realista y muestra cómo diferentes variables podrían estar relacionadas en un contexto administrativo."
      ]
    },
    {
      "cell_type": "markdown",
      "metadata": {
        "id": "hICshLklZVG-"
      },
      "source": [
        "# **Crear el Gráfico**"
      ]
    },
    {
      "cell_type": "code",
      "execution_count": null,
      "metadata": {
        "colab": {
          "base_uri": "https://localhost:8080/",
          "height": 391
        },
        "id": "JrLUS4DBz0HN",
        "outputId": "ffddf784-3d56-4ddd-bb3e-333d81cadbae"
      },
      "outputs": [
        {
          "data": {
            "image/png": "[encoded data removed]",
            "text/plain": [
              "<Figure size 600x400 with 1 Axes>"
            ]
          },
          "metadata": {},
          "output_type": "display_data"
        }
      ],
      "source": [
        "# Crear un gráfico de la precisión del modelo\n",
        "import matplotlib.pyplot as plt\n",
        "plt.figure(figsize=(6, 4))\n",
        "plt.bar(['Precisión del Modelo'], [accuracy], color='skyblue')\n",
        "plt.ylim(0, 1)\n",
        "plt.ylabel('Precisión')\n",
        "plt.title('Precisión del Modelo de Clasificación')\n",
        "plt.show()"
      ]
    },
    {
      "cell_type": "markdown",
      "metadata": {
        "id": "JHu-ujpIZYF2"
      },
      "source": [
        "plt.figure(figsize=(6, 4)): Se configura el tamaño del gráfico.\n",
        "plt.bar(...): Se crea un gráfico de barras con una sola barra que muestra la precisión del modelo. El color de la barra es skyblue.\n",
        "plt.ylim(0, 1): Se establece el rango del eje y de 0 a 1 para representar la precisión como un valor entre 0 (0%) y 1 (100%).\n",
        "plt.ylabel('Precisión'): Se etiqueta el eje y como \"Precisión\".\n",
        "plt.title(...): Se añade un título al gráfico.\n",
        "plt.show(): Se muestra el gráfico.\n"
      ]
    },
    {
      "cell_type": "markdown",
      "metadata": {
        "id": "5jEb_OuNzZMl"
      },
      "source": [
        "# **Actualización del Código para Incluir la Variable Objetivo**\n",
        "Podemos usar una lógica sencilla para definir Aprobado_Credito. Una posible fórmula podría ser:\n",
        "\n",
        "Si el puntaje de crédito de una persona es mayor o igual a 600, y el gasto mensual no supera el 30% de los ingresos, consideramos que su crédito es aprobado.\n",
        "En caso contrario, el crédito no es aprobado.\n",
        "Aquí está el código modificado para incluir esta variable de clasificación:"
      ]
    },
    {
      "cell_type": "code",
      "execution_count": null,
      "metadata": {
        "colab": {
          "background_save": true,
          "base_uri": "https://localhost:8080/"
        },
        "id": "IAUFbCCQzZ59",
        "outputId": "0605ef03-d0b3-4129-9f00-beb605e24a61"
      },
      "outputs": [
        {
          "name": "stdout",
          "output_type": "stream",
          "text": [
            "Dataset Sintético con Relación Lógica y Variable Objetivo:\n",
            "   Edad  Ingresos  Gasto_Mensual  Horas_Trabajo_Semanal  Puntaje_Credito  \\\n",
            "0    56     22695           4773                     51              300   \n",
            "1    46     68190          19754                     41              300   \n",
            "2    32     25258           7326                     42              300   \n",
            "3    60     59504          15514                     21              300   \n",
            "4    25     53159           6755                     46              300   \n",
            "\n",
            "   Aprobado_Credito  \n",
            "0                 0  \n",
            "1                 0  \n",
            "2                 0  \n",
            "3                 0  \n",
            "4                 0  \n",
            "Exactitud del modelo: 1.0\n"
          ]
        }
      ],
      "source": [
        "import pandas as pd\n",
        "import numpy as np\n",
        "from sklearn.model_selection import train_test_split\n",
        "from sklearn.ensemble import RandomForestClassifier\n",
        "from sklearn.metrics import accuracy_score\n",
        "\n",
        "# Fijar una semilla para la reproducibilidad\n",
        "np.random.seed(42)\n",
        "\n",
        "# Crear datos sintéticos relacionados\n",
        "n_samples = 100\n",
        "edad = np.random.randint(18, 65, size=n_samples)  # Edad entre 18 y 65 años\n",
        "ingresos = np.random.randint(20000, 100000, size=n_samples)  # Ingresos anuales en una escala razonable\n",
        "gasto_mensual = ingresos * np.random.uniform(0.1, 0.4, size=n_samples)  # Gasto mensual relacionado con los ingresos\n",
        "horas_trabajo_semanal = np.random.randint(20, 60, size=n_samples)  # Horas de trabajo por semana\n",
        "\n",
        "# Fórmula sintética para puntaje de crédito\n",
        "puntaje_credito = np.clip(\n",
        "    edad + (ingresos // 1000) * 0.5 - horas_trabajo_semanal * 0.3 + np.random.normal(0, 10, size=n_samples),\n",
        "    300, 850\n",
        ")\n",
        "\n",
        "# Crear la variable objetivo: Aprobado_Credito\n",
        "# Si el puntaje de crédito es >= 600 y el gasto mensual <= 30% de los ingresos, entonces el crédito es aprobado\n",
        "aprobado_credito = (puntaje_credito >= 600) & (gasto_mensual <= ingresos * 0.3)\n",
        "aprobado_credito = aprobado_credito.astype(int)  # Convertir a 0 o 1 (0: No aprobado, 1: Aprobado)\n",
        "\n",
        "# Crear el DataFrame\n",
        "df = pd.DataFrame({\n",
        "    'Edad': edad,\n",
        "    'Ingresos': ingresos,\n",
        "    'Gasto_Mensual': gasto_mensual.astype(int),\n",
        "    'Horas_Trabajo_Semanal': horas_trabajo_semanal,\n",
        "    'Puntaje_Credito': puntaje_credito.astype(int),\n",
        "    'Aprobado_Credito': aprobado_credito\n",
        "})\n",
        "\n",
        "# Mostrar las primeras filas del DataFrame\n",
        "print(\"Dataset Sintético con Relación Lógica y Variable Objetivo:\")\n",
        "print(df.head())\n",
        "\n",
        "# Dividir en conjuntos de entrenamiento y prueba\n",
        "X = df[['Edad', 'Ingresos', 'Gasto_Mensual', 'Horas_Trabajo_Semanal', 'Puntaje_Credito']]  # Características\n",
        "y = df['Aprobado_Credito']  # Variable objetivo\n",
        "\n",
        "X_train, X_test, y_train, y_test = train_test_split(X, y, test_size=0.2, random_state=42)\n",
        "\n",
        "# Entrenar un modelo de clasificación\n",
        "model = RandomForestClassifier()\n",
        "model.fit(X_train, y_train)\n",
        "\n",
        "# Predecir y evaluar\n",
        "y_pred = model.predict(X_test)\n",
        "accuracy = accuracy_score(y_test, y_pred)\n",
        "print(\"Exactitud del modelo:\", accuracy)\n"
      ]
    }
  ],
  "metadata": {
    "colab": {
      "provenance": []
    },
    "kernelspec": {
      "display_name": "Python 3",
      "name": "python3"
    },
    "language_info": {
      "name": "python"
    }
  },
  "nbformat": 4,
  "nbformat_minor": 0
}