{
  "nbformat": 4,
  "nbformat_minor": 0,
  "metadata": {
    "colab": {
      "provenance": []
    },
    "kernelspec": {
      "name": "python3",
      "display_name": "Python 3"
    },
    "language_info": {
      "name": "python"
    }
  },
  "cells": [
    {
      "cell_type": "markdown",
      "source": [
        "# **1. Configuración Básica en Google Colab**"
      ],
      "metadata": {
        "id": "aHm6lIHL-bP3"
      }
    },
    {
      "cell_type": "code",
      "execution_count": null,
      "metadata": {
        "colab": {
          "base_uri": "https://localhost:8080/"
        },
        "id": "EZY8L60D-RbS",
        "outputId": "96fb33de-5b7b-430f-e93d-aef4674995c3"
      },
      "outputs": [
        {
          "output_type": "stream",
          "name": "stdout",
          "text": [
            "Ejemplo de DataFrame:\n",
            "  Nombre  Edad     Ciudad\n",
            "0    Ana    23     Madrid\n",
            "1   Luis    25  Barcelona\n",
            "2  Pedro    21   Valencia\n",
            "3  María    22    Sevilla\n"
          ]
        }
      ],
      "source": [
        "# Importar bibliotecas esenciales\n",
        "import pandas as pd\n",
        "import numpy as np\n",
        "\n",
        "# Crear un dataframe de ejemplo\n",
        "data = {\n",
        "    'Nombre': ['Ana', 'Luis', 'Pedro', 'María'],\n",
        "    'Edad': [23, 25, 21, 22],\n",
        "    'Ciudad': ['Madrid', 'Barcelona', 'Valencia', 'Sevilla']\n",
        "}\n",
        "\n",
        "df = pd.DataFrame(data)\n",
        "print(\"Ejemplo de DataFrame:\")\n",
        "print(df)"
      ]
    }
  ]
}