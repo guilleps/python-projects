{
  "nbformat": 4,
  "nbformat_minor": 0,
  "metadata": {
    "colab": {
      "provenance": []
    },
    "kernelspec": {
      "name": "python3",
      "display_name": "Python 3"
    },
    "language_info": {
      "name": "python"
    }
  },
  "cells": [
    {
      "cell_type": "code",
      "source": [
        "import pandas as pd\n",
        "import numpy as np\n",
        "from sklearn.model_selection import train_test_split\n",
        "from sklearn.ensemble import RandomForestClassifier\n",
        "from sklearn.metrics import accuracy_score\n",
        "\n",
        "# Fijar una semilla para la reproducibilidad\n",
        "np.random.seed(42)\n",
        "\n",
        "# Crear datos sintéticos relacionados\n",
        "n_samples = 1000\n",
        "edad = np.random.randint(18, 65, size=n_samples)  # Edad entre 18 y 65 años\n",
        "ingresos = np.random.randint(20000, 100000, size=n_samples)  # Ingresos anuales en una escala razonable\n",
        "gasto_mensual = ingresos * np.random.uniform(0.1, 0.4, size=n_samples)  # Gasto mensual relacionado con los ingresos\n",
        "horas_trabajo_semanal = np.random.randint(20, 60, size=n_samples)  # Horas de trabajo por semana\n",
        "\n",
        "# Fórmula modificada para puntaje de crédito\n",
        "puntaje_credito = np.clip(\n",
        "    edad * 0.5 + (ingresos // 120) * 1.5 - horas_trabajo_semanal * 0.2 + np.random.normal(0, 15, size=n_samples),\n",
        "    300, 850\n",
        ")\n",
        "\n",
        "\n",
        "# Crear una relación más compleja entre las características\n",
        "aprobado_credito = (\n",
        "    (puntaje_credito >= 600) &\n",
        "    (gasto_mensual <= ingresos * 0.3) &\n",
        "    (np.random.rand(n_samples) > 0.1)  # Agregar un pequeño azar\n",
        ")\n",
        "aprobado_credito = aprobado_credito.astype(int)\n",
        "\n",
        "# Añadir algo de ruido a la variable objetivo para hacer la tarea menos trivial\n",
        "ruido = np.random.choice([0, 1], size=n_samples, p=[0.05, 0.95])  # Un poco de aleatoriedad\n",
        "aprobado_credito = (aprobado_credito + ruido) % 2  # Alternar algunos valores aleatoriamente\n",
        "\n",
        "# Crear el DataFrame\n",
        "df = pd.DataFrame({\n",
        "    'Edad': edad,\n",
        "    'Ingresos': ingresos,\n",
        "    'Gasto_Mensual': gasto_mensual.astype(int),\n",
        "    'Horas_Trabajo_Semanal': horas_trabajo_semanal,\n",
        "    'Puntaje_Credito': puntaje_credito.astype(int),\n",
        "    'Aprobado_Credito': aprobado_credito\n",
        "})\n",
        "\n",
        "# Mostrar las primeras filas del DataFrame\n",
        "print(\"Dataset Sintético con Relación Lógica y Variable Objetivo:\")\n",
        "print(df.head())\n",
        "\n",
        "# Dividir en conjuntos de entrenamiento y prueba\n",
        "X = df[['Edad', 'Ingresos', 'Gasto_Mensual', 'Horas_Trabajo_Semanal', 'Puntaje_Credito']]  # Características\n",
        "y = df['Aprobado_Credito']  # Variable objetivo\n",
        "\n",
        "X_train, X_test, y_train, y_test = train_test_split(X, y, test_size=0.2, random_state=42)\n",
        "\n",
        "# Entrenar un modelo de clasificación\n",
        "model = RandomForestClassifier(n_estimators=100, max_depth=10, random_state=42)\n",
        "model.fit(X_train, y_train)\n",
        "\n",
        "# Predecir y evaluar\n",
        "y_pred = model.predict(X_test)\n",
        "accuracy = accuracy_score(y_test, y_pred)\n",
        "print(\"Exactitud del modelo:\", accuracy)"
      ],
      "metadata": {
        "colab": {
          "base_uri": "https://localhost:8080/"
        },
        "id": "IAUFbCCQzZ59",
        "outputId": "fdc437f8-764e-4018-9d42-b019ce954d2a"
      },
      "execution_count": null,
      "outputs": [
        {
          "output_type": "stream",
          "name": "stdout",
          "text": [
            "Dataset Sintético con Relación Lógica y Variable Objetivo:\n",
            "   Edad  Ingresos  Gasto_Mensual  Horas_Trabajo_Semanal  Puntaje_Credito  \\\n",
            "0    56     25287           6935                     27              340   \n",
            "1    46     54387           6901                     45              707   \n",
            "2    32     28512           8989                     59              344   \n",
            "3    60     21342           4694                     26              300   \n",
            "4    25     83076          32650                     49              850   \n",
            "\n",
            "   Aprobado_Credito  \n",
            "0                 1  \n",
            "1                 0  \n",
            "2                 1  \n",
            "3                 1  \n",
            "4                 1  \n",
            "Exactitud del modelo: 0.895\n"
          ]
        }
      ]
    },
    {
      "cell_type": "markdown",
      "source": [],
      "metadata": {
        "id": "KJ58qMWOP1t5"
      }
    },
    {
      "cell_type": "code",
      "source": [
        "df.to_excel('df.xlsx')\n"
      ],
      "metadata": {
        "id": "f5CiXHNYKhHE"
      },
      "execution_count": null,
      "outputs": []
    }
  ]
}